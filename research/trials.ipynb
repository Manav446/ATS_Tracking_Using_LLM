{
 "cells": [
  {
   "cell_type": "code",
   "execution_count": 31,
   "metadata": {},
   "outputs": [],
   "source": [
    "import os\n",
    "\n",
    "from langchain.document_loaders import PyPDFLoader\n",
    "from langchain.text_splitter import RecursiveCharacterTextSplitter\n",
    "from langchain.memory import ConversationSummaryMemory\n",
    "from langchain.chains import ConversationalRetrievalChain\n",
    "from langchain.schema.runnable import RunnablePassthrough\n",
    "from langchain.schema import StrOutputParser\n",
    "from langchain.chains import LLMChain\n",
    "from langchain.prompts import PromptTemplate\n",
    "\n",
    "from langchain_google_genai import GoogleGenerativeAIEmbeddings, ChatGoogleGenerativeAI\n",
    "\n",
    "from dotenv import load_dotenv\n",
    "\n",
    "from tqdm import tqdm\n",
    "\n",
    "import warnings\n",
    "warnings.filterwarnings(\"ignore\")"
   ]
  },
  {
   "cell_type": "code",
   "execution_count": 12,
   "metadata": {},
   "outputs": [],
   "source": [
    "load_dotenv()\n",
    "\n",
    "GEMINI_API_KEY = os.getenv(\"GEMINI_API_KEY\")"
   ]
  },
  {
   "cell_type": "code",
   "execution_count": 13,
   "metadata": {},
   "outputs": [
    {
     "name": "stdout",
     "output_type": "stream",
     "text": [
      "models/chat-bison-001\n",
      "models/text-bison-001\n",
      "models/embedding-gecko-001\n",
      "models/gemini-1.0-pro\n",
      "models/gemini-1.0-pro-001\n",
      "models/gemini-1.0-pro-latest\n",
      "models/gemini-1.0-pro-vision-latest\n",
      "models/gemini-1.5-flash\n",
      "models/gemini-1.5-flash-001\n",
      "models/gemini-1.5-flash-latest\n",
      "models/gemini-1.5-pro\n",
      "models/gemini-1.5-pro-001\n",
      "models/gemini-1.5-pro-latest\n",
      "models/gemini-pro\n",
      "models/gemini-pro-vision\n",
      "models/embedding-001\n",
      "models/text-embedding-004\n",
      "models/aqa\n"
     ]
    }
   ],
   "source": [
    "## Checking the Models available \n",
    "import google.generativeai as gemini\n",
    "\n",
    "## Configuring the GEMINI API key for accessing the model\n",
    "gemini.configure(api_key=GEMINI_API_KEY)\n",
    "\n",
    "for model in gemini.list_models():\n",
    "    print(model.name)"
   ]
  },
  {
   "cell_type": "code",
   "execution_count": 14,
   "metadata": {},
   "outputs": [],
   "source": [
    "## Creating PDF loader\n",
    "def pdf_data_loader(input_pdf_file):\n",
    "    reader = PyPDFLoader(input_pdf_file)\n",
    "    return reader.load()"
   ]
  },
  {
   "cell_type": "code",
   "execution_count": 24,
   "metadata": {},
   "outputs": [],
   "source": [
    "## Creating method for calling Google Gemini API\n",
    "\n",
    "llm_model = ChatGoogleGenerativeAI(\n",
    "    google_api_key=GEMINI_API_KEY, \n",
    "    model=\"models/gemini-1.5-pro-latest\", \n",
    "    temperature=0.6, \n",
    "    top_p=0.8,\n",
    "    convert_system_message_to_human=True\n",
    ")\n",
    "   "
   ]
  },
  {
   "cell_type": "code",
   "execution_count": 18,
   "metadata": {},
   "outputs": [],
   "source": [
    "text = pdf_data_loader(\"D:\\\\manav_docs\\\\Manav_Garg_Resume_3.pdf\")\n",
    "resume_content = text[0].page_content"
   ]
  },
  {
   "cell_type": "code",
   "execution_count": 19,
   "metadata": {},
   "outputs": [],
   "source": [
    "job_description = \"\"\"\n",
    "Master’s in a highly quantitative field (Machine Learning, Operational Research, Statistics, Mathematics, etc.) preferably from a reputable institution like IITs, IISc, or equivalent.\n",
    "4+ years of industry experience in a data scientist role\n",
    "Solid understanding of the mathematics related to data science - probability, statistics, linear algebra etc.\n",
    "Extensive knowledge of various machine learning algorithms and concepts used to build predictive models\n",
    "In-depth knowledge in at least 2 of the following data science domains:\n",
    "Text Analysis and Natural Language Processing\n",
    "Neural Networks and Deep Learning\n",
    "Signal Processing, Image/Video processing and recognition\n",
    "Reinforcement Learning\n",
    "Hands on experience with computational packages (Numpy, Scipy, Pandas, Scikit-Learn, StatsModels, Keras, Tensorflow, etc.) and visualization tools\n",
    "Highly proficient in SQL and good knowledge of relational database\n",
    "Prior experience in deploying machine learning models into production\n",
    "Experience in working with GPUs to develop models\n",
    "Possess strong interpersonal and stakeholder management skills\n",
    "Past and current experience writing and speaking about complex technical concepts to broad audiences in a simplified format\n",
    "Strong written and verbal communication skills\n",
    "Demonstrated the ability to independently develop new concepts and stay current with academic research\n",
    "Exposure to SAP modules along with prior experience in cloud technologies like BTP, AWS, GCP, etc. is desired.\n",
    "Publications or presentations in recognized Machine Learning and Data Mining journals/conferences\n",
    "Identify and translate real world customer problems into feasible technical solutions and implement them independently. \n",
    "Expectations and Tasks:\n",
    "Conceptualize, design and deliver high quality solutions and insightful analysis\n",
    "Work on gathering data and requirements, participate in solution scoping and architecture, research and prototyping innovative models\n",
    "Build solutions by exploring data, building & validating models and deploying them to deliver maximum business impact\n",
    "Interact with both - internal and external stakeholders on a daily basis\n",
    "Handle multiple projects as an individual contributor and be a multiplier by actively mentoring other resources within the team\n",
    "Be up-to-date with latest and best practices in delivering enterprise grade data science solutions\n",
    "Build credibility and trust with customers and project teams during project execution\n",
    "Demonstrate adaptability and flexibility to manage deadline pressure, ambiguity and change\n",
    "Continually enhance existing skills and seek new areas for personal development.\n",
    "Collaborate with product owner, architect, fellow developers, quality and user assistance specialists on design, architecture, hands-on coding, testing, etc. to deliver best solutions to our customers\n",
    "Work on the latest technology and ensure on-time, high quality solutions\n",
    "Embrace lean and agile software development principles\n",
    "Perform high-level analysis of any new requirements/change requests to the solution from a technical standpoint\n",
    "Analyze the impact of any new requirements on the existing solution\n",
    "Work closely with other CIS Engineering team members, SAP Product Development teams, external partners and customer teams to ensure successful project completion\n",
    "\"\"\""
   ]
  },
  {
   "cell_type": "code",
   "execution_count": 59,
   "metadata": {},
   "outputs": [],
   "source": [
    "input_prompt=\"\"\"\n",
    "Hey Act Like a skilled or very experience ATS(Application Tracking System)\n",
    "with a deep understanding of tech field,software engineering,data science ,data analyst\n",
    "and big data engineer. Your task is to evaluate the resume based on the given job description.\n",
    "You must consider the job market is very competitive and you should provide \n",
    "best assistance for improving the resumes. And also if possible tell whether the resume is applicable for the passed job description like applicable or not applicable.\n",
    "Assign the percentage Matching based \n",
    "on Jd and the missing keywords with high accuracy\n",
    "resume:{resume_content}\n",
    "description:{job_description}\n",
    "\n",
    "I want the response in one single string having the structure\n",
    "{{\"JD Match\":\"%\", \"MissingKeywords:[]\", \"Profile Summary\":\"\", \"applicable\": \"\"}}\n",
    "\"\"\""
   ]
  },
  {
   "cell_type": "code",
   "execution_count": 60,
   "metadata": {},
   "outputs": [],
   "source": [
    "prompt = PromptTemplate(\n",
    "    input_variables=[\"resume_content\", \"job_description\"],\n",
    "    template=input_prompt\n",
    ")"
   ]
  },
  {
   "cell_type": "code",
   "execution_count": 61,
   "metadata": {},
   "outputs": [],
   "source": [
    "a = {\n",
    "    \"resume_content\": resume_content,\n",
    "    \"job_description\": job_description\n",
    "}"
   ]
  },
  {
   "cell_type": "code",
   "execution_count": 69,
   "metadata": {},
   "outputs": [],
   "source": [
    "chain = LLMChain(llm=llm_model, prompt=prompt)"
   ]
  },
  {
   "cell_type": "code",
   "execution_count": 71,
   "metadata": {},
   "outputs": [],
   "source": [
    "response = chain.invoke(a)"
   ]
  },
  {
   "cell_type": "code",
   "execution_count": 75,
   "metadata": {},
   "outputs": [
    {
     "data": {
      "text/plain": [
       "{'resume_content': 'Manav Garg  \\n(+91) 9821334081 | manavgarg026@gmail.com  | linkedin.com/in/manavgarg026  | https://github.com/Manav446  \\nSummary:  \\nHighly analytical, meticulously organized software developer skilled in software development, AI, and Data Science. \\nKnown for collaborative teamwork, a strong sense of ownership, and a proven history of delivering top -tier strategic \\nsolutions to overcome o bstacles and drive business advancement.  \\nTech nical Skills : \\n• Programming Languages : Python, Java  \\n• Frameworks & Tools: TensorFlow, PyTorch, Langchain, LlamaIndex, Flask, Spring Boot, Spring MVC, Hibernate , \\nSpring Batch , Microservices  \\n• Generative AI Technologies: Open Source and paid LLM models (like Open AI,  Google Gemini, Mistal, Llama2, \\nMistral etc.) , RAG  \\n• Databases: PostgreSQL, MySQL, Microsoft SQL Server, Mongo -DB, Oracle  \\n• Vector Databases: Chroma DB, Pinecone, Weaviate  \\n• AI/ML Techniques: NLP, Neural Network optimization, Deep Learning, Supervised and Un -Supervised Algorithms , \\nfine-tuning  with custom data , vector embedding  \\n• Clouds and deployment tools:  Docker, GIT, AWS (EC2 and Lambda)  \\n \\nExperience:  \\nSoftware Engi neer  (SE) :  Tata Consultancy Services LTD | August  2021 – Present  \\n• Proficiently managed programming f or databases and  projects using Java and Oracle . \\n• Applied multithreading in multiple backend batch  jobs and also used JNDI for database con nectiv ity and also \\noptimized SQL queries  increasing  the process a nd workflow of product.  \\n• By applyi ng the above things, the product bec ame more feasible  and optimized  and able t o enhanced the speed \\nup to 60 -70% . \\n \\nProjects:  \\nSource C ode Analysis Using Gen -AI \\n• Overview:  Created  a chatbot that provide s the detail description of the source code of the passe d repo URL.  \\n• Technologies: Google Gemini AP I, Python, Flask, Chroma DB, Docker  \\n• Outcome: Reduced the time in read ing the project d ocumentation.  \\n \\nEmail Spam Detection Using NLP  \\n• Overview:  Created  a NLP application wh ich classified whet her an  email is SPAM or HAM . \\n• Technologies:  Python, NLP, ANN,  Flask, Google Drive , Docker  \\n• Outcome: Has ab le to identity  whether the email is SP AM o r Not in deeper  way.    \\n \\nEducation : \\n• GGSIPU , New Del hi | Bachelor of Computer Applications | August 2016 - May 2019  \\n• NIIT, New D elhi |  Advance Program in Full Stack Software De velopment | June 2019 – Feb 2022  \\n• Sastra Deemed to  be Universit y, Thanjavur  | Master of Computer App lications | August 2022 – May 2024  \\n \\nCertifications:  \\n• Master ing Generativ e AI from INEUR ON \\n• Full Stack Da ta Sc ience Masters  from PW Skills  ',\n",
       " 'job_description': '\\nMaster’s in a highly quantitative field (Machine Learning, Operational Research, Statistics, Mathematics, etc.) preferably from a reputable institution like IITs, IISc, or equivalent.\\n4+ years of industry experience in a data scientist role\\nSolid understanding of the mathematics related to data science - probability, statistics, linear algebra etc.\\nExtensive knowledge of various machine learning algorithms and concepts used to build predictive models\\nIn-depth knowledge in at least 2 of the following data science domains:\\nText Analysis and Natural Language Processing\\nNeural Networks and Deep Learning\\nSignal Processing, Image/Video processing and recognition\\nReinforcement Learning\\nHands on experience with computational packages (Numpy, Scipy, Pandas, Scikit-Learn, StatsModels, Keras, Tensorflow, etc.) and visualization tools\\nHighly proficient in SQL and good knowledge of relational database\\nPrior experience in deploying machine learning models into production\\nExperience in working with GPUs to develop models\\nPossess strong interpersonal and stakeholder management skills\\nPast and current experience writing and speaking about complex technical concepts to broad audiences in a simplified format\\nStrong written and verbal communication skills\\nDemonstrated the ability to independently develop new concepts and stay current with academic research\\nExposure to SAP modules along with prior experience in cloud technologies like BTP, AWS, GCP, etc. is desired.\\nPublications or presentations in recognized Machine Learning and Data Mining journals/conferences\\nIdentify and translate real world customer problems into feasible technical solutions and implement them independently. \\nExpectations and Tasks:\\nConceptualize, design and deliver high quality solutions and insightful analysis\\nWork on gathering data and requirements, participate in solution scoping and architecture, research and prototyping innovative models\\nBuild solutions by exploring data, building & validating models and deploying them to deliver maximum business impact\\nInteract with both - internal and external stakeholders on a daily basis\\nHandle multiple projects as an individual contributor and be a multiplier by actively mentoring other resources within the team\\nBe up-to-date with latest and best practices in delivering enterprise grade data science solutions\\nBuild credibility and trust with customers and project teams during project execution\\nDemonstrate adaptability and flexibility to manage deadline pressure, ambiguity and change\\nContinually enhance existing skills and seek new areas for personal development.\\nCollaborate with product owner, architect, fellow developers, quality and user assistance specialists on design, architecture, hands-on coding, testing, etc. to deliver best solutions to our customers\\nWork on the latest technology and ensure on-time, high quality solutions\\nEmbrace lean and agile software development principles\\nPerform high-level analysis of any new requirements/change requests to the solution from a technical standpoint\\nAnalyze the impact of any new requirements on the existing solution\\nWork closely with other CIS Engineering team members, SAP Product Development teams, external partners and customer teams to ensure successful project completion\\n',\n",
       " 'text': '{\"JD Match\":\"65%\", \"MissingKeywords\":[\"Operational Research\", \"Statistics\", \"Mathematics\", \"Scikit-Learn\", \"StatsModels\", \"Keras\", \"BTP\", \"Publications\", \"SAP modules\"], \"Profile Summary\":\"Manav Garg is a skilled software developer with experience in AI and Data Science. He has a strong foundation in programming languages like Python and Java, and is proficient in using various AI/ML techniques and tools. His experience with cloud technologies and deployment tools would be beneficial. However, he lacks specific experience in some key areas mentioned in the job description, such as Operational Research, Statistics, and experience with specific computational packages like Scikit-Learn and StatsModels.  His resume would be strengthened by highlighting projects demonstrating a deeper understanding of these areas and quantifying the impact of his work with concrete metrics. Additionally, showcasing any experience with SAP modules or publications in relevant fields would enhance his profile.\", \"applicable\": \"Applicable\"} \\n'}"
      ]
     },
     "execution_count": 75,
     "metadata": {},
     "output_type": "execute_result"
    }
   ],
   "source": [
    "response"
   ]
  },
  {
   "cell_type": "code",
   "execution_count": null,
   "metadata": {},
   "outputs": [],
   "source": []
  }
 ],
 "metadata": {
  "kernelspec": {
   "display_name": ".venv",
   "language": "python",
   "name": "python3"
  },
  "language_info": {
   "codemirror_mode": {
    "name": "ipython",
    "version": 3
   },
   "file_extension": ".py",
   "mimetype": "text/x-python",
   "name": "python",
   "nbconvert_exporter": "python",
   "pygments_lexer": "ipython3",
   "version": "3.12.4"
  }
 },
 "nbformat": 4,
 "nbformat_minor": 2
}
